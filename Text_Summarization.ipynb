{
 "cells": [
  {
   "cell_type": "code",
   "execution_count": 60,
   "metadata": {},
   "outputs": [
    {
     "name": "stderr",
     "output_type": "stream",
     "text": [
      "[nltk_data] Downloading package stopwords to C:\\Users\\Rajeev\n",
      "[nltk_data]     Ranjan\\AppData\\Roaming\\nltk_data...\n",
      "[nltk_data]   Package stopwords is already up-to-date!\n",
      "[nltk_data] Downloading package punkt to C:\\Users\\Rajeev\n",
      "[nltk_data]     Ranjan\\AppData\\Roaming\\nltk_data...\n",
      "[nltk_data]   Package punkt is already up-to-date!\n"
     ]
    }
   ],
   "source": [
    "#---------------Text Summarization--------------------------------\n",
    "\n",
    "import nltk\n",
    "import re\n",
    "nltk.download('stopwords')\n",
    "nltk.download('punkt')\n",
    "import bs4 as bs\n",
    "import urllib.request\n",
    "from heapq import nlargest\n",
    "\n",
    "def summarize(link):\n",
    "    source=urllib.request.urlopen(link).read()\n",
    "\n",
    "    soup=bs.BeautifulSoup(source,'lxml')\n",
    "    text=\"\"\n",
    "    for paragraph in soup.find_all('p'):\n",
    "       text+=paragraph.text\n",
    "\n",
    "    text=re.sub(r'\\[[0-9]*\\]',' ',text)\n",
    "    text=re.sub(r\"\\s+\",\" \",text)\n",
    "    clean_text=text.lower()\n",
    "    clean_text=re.sub(r\"\\W\",\" \",clean_text)\n",
    "    clean_text=re.sub(r\"\\d\",\" \",clean_text)\n",
    "    clean_text=re.sub(r'\\s+',\" \",clean_text)\n",
    "\n",
    "\n",
    "    sentences=nltk.sent_tokenize(text)\n",
    "    stop_words=nltk.corpus.stopwords.words('english')\n",
    "\n",
    "    word2count={}\n",
    "    for word in nltk.word_tokenize(clean_text):\n",
    "        if word not in stop_words:\n",
    "            if word not in word2count.keys():\n",
    "                word2count[word]=1\n",
    "            else:\n",
    "                word2count[word]+=1\n",
    "\n",
    "    for key in word2count.keys():\n",
    "        word2count[key]=word2count[key]/max(word2count.values())\n",
    "    \n",
    "    \n",
    "    \n",
    "    sent2score={}\n",
    "    for sentence in sentences:\n",
    "        for word in nltk.word_tokenize(sentence.lower()):\n",
    "            if word in word2count.keys():\n",
    "                if len(sentence.split(' '))<25:\n",
    "                    if sentence not in sent2score.keys():\n",
    "                        sent2score[sentence]=word2count[word]\n",
    "                    else:\n",
    "                        sent2score[sentence]+=word2count[word]    \n",
    "    \n",
    "    \n",
    "     # Summary result\n",
    "\n",
    "    # Summary result\n",
    "\n",
    "    import heapq\n",
    "    best_sentences=heapq.nlargest(10,sent2score,sent2score.get)\n",
    "\n",
    "\n",
    "    print('-----------------------------------------------------------------------------------------------------------------------')\n",
    "    for sentence in best_sentences:\n",
    "        print(sentence)\n",
    "   \n",
    "    print('-----------------------------------------------------------------------------------------------------------------------')    \n",
    "    summary = ' '.join(best_sentences)  \n",
    "    return summary\n",
    "    "
   ]
  },
  {
   "cell_type": "code",
   "execution_count": 61,
   "metadata": {},
   "outputs": [
    {
     "name": "stdout",
     "output_type": "stream",
     "text": [
      "-----------------------------------------------------------------------------------------------------------------------\n",
      "The percentage of self-arranged marriages (called love marriages in India) have also increased, particularly in the urban parts of India.\n",
      "Fewer marriages are purely arranged without consent and that the majority of surveyed Indian marriages are arranged with consent.\n",
      "Recent studies suggest that Indian culture is trending away from traditional arranged marriages.\n",
      "Even today, the majority of Indians have their marriages planned by their parents and other respected family members.\n",
      "Weddings in India vary regionally, the religion and per personal preferences of the bride and groom.\n",
      "India celebrates about 10 million weddings per year, of which about 80% are Hindu weddings.\n",
      "The rituals include Nikah, payment of financial dower called Mahr by the groom to the bride, signing of marriage contract, and a reception.\n",
      "Arranged marriages have long been the norm in Indian society.\n",
      "The average age of marriage for women in India has increased to 21 years, according to 2011 Census of India.\n",
      "Indian Muslims celebrate a traditional Islamic wedding following customs similar to those practiced in the Middle East.\n",
      "-----------------------------------------------------------------------------------------------------------------------\n"
     ]
    },
    {
     "data": {
      "text/plain": [
       "'The percentage of self-arranged marriages (called love marriages in India) have also increased, particularly in the urban parts of India. Fewer marriages are purely arranged without consent and that the majority of surveyed Indian marriages are arranged with consent. Recent studies suggest that Indian culture is trending away from traditional arranged marriages. Even today, the majority of Indians have their marriages planned by their parents and other respected family members. Weddings in India vary regionally, the religion and per personal preferences of the bride and groom. India celebrates about 10 million weddings per year, of which about 80% are Hindu weddings. The rituals include Nikah, payment of financial dower called Mahr by the groom to the bride, signing of marriage contract, and a reception. Arranged marriages have long been the norm in Indian society. The average age of marriage for women in India has increased to 21 years, according to 2011 Census of India. Indian Muslims celebrate a traditional Islamic wedding following customs similar to those practiced in the Middle East.'"
      ]
     },
     "execution_count": 61,
     "metadata": {},
     "output_type": "execute_result"
    }
   ],
   "source": [
    "summarize('https://en.wikipedia.org/wiki/Weddings_in_India')"
   ]
  },
  {
   "cell_type": "code",
   "execution_count": null,
   "metadata": {},
   "outputs": [],
   "source": []
  }
 ],
 "metadata": {
  "kernelspec": {
   "display_name": "Python 3",
   "language": "python",
   "name": "python3"
  },
  "language_info": {
   "codemirror_mode": {
    "name": "ipython",
    "version": 3
   },
   "file_extension": ".py",
   "mimetype": "text/x-python",
   "name": "python",
   "nbconvert_exporter": "python",
   "pygments_lexer": "ipython3",
   "version": "3.6.8"
  }
 },
 "nbformat": 4,
 "nbformat_minor": 2
}
